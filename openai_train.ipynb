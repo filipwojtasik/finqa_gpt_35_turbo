{
 "cells": [
  {
   "cell_type": "code",
   "execution_count": null,
   "metadata": {},
   "outputs": [],
   "source": [
    "import os\n",
    "import openai\n",
    "openai.api_key = \"\"\n",
    "file_test = openai.File.create(\n",
    "    file=open(\"/Users/filipwojtasik/Downloads/out_test.jsonl\", \"rb\"),\n",
    "    purpose='fine-tune',\n",
    ")\n",
    "file_train = openai.File.create(\n",
    "    file=open(\"/Users/filipwojtasik/Downloads/out_train.jsonl\", \"rb\"),\n",
    "    purpose='fine-tune',\n",
    ")"
   ]
  },
  {
   "cell_type": "code",
   "execution_count": null,
   "metadata": {},
   "outputs": [],
   "source": [
    "openai.File.retrieve(\"file-jGdOAL9j78IFEk43OLzni6uY\")\n"
   ]
  },
  {
   "cell_type": "code",
   "execution_count": null,
   "metadata": {},
   "outputs": [],
   "source": [
    "openai.File.retrieve(\"file-dJvOPOjuefIDDa2bhJhnuxCC\")\n"
   ]
  },
  {
   "cell_type": "code",
   "execution_count": null,
   "metadata": {},
   "outputs": [],
   "source": [
    "train_data = \"file-jGdOAL9j78IFEk43OLzni6uY\"\n",
    "val_data = \"file-dJvOPOjuefIDDa2bhJhnuxCC\"\n",
    "model = openai.FineTuningJob.create(\n",
    "    model = \"gpt-3.5-turbo\", \n",
    "    training_file = train_data,\n",
    "    validation_file = val_data,\n",
    "    suffix = \"finqa\",\n",
    "    hyperparameters={\"n_epochs\":2, }\n",
    "\n",
    ")"
   ]
  },
  {
   "cell_type": "code",
   "execution_count": null,
   "metadata": {},
   "outputs": [],
   "source": [
    "model"
   ]
  },
  {
   "cell_type": "code",
   "execution_count": null,
   "metadata": {},
   "outputs": [],
   "source": [
    "openai.FineTuningJob.retrieve('ftjob-ydU5X7sUZkC7U3tavdPPIctI')\n"
   ]
  }
 ],
 "metadata": {
  "kernelspec": {
   "display_name": "Python 3",
   "language": "python",
   "name": "python3"
  },
  "language_info": {
   "name": "python",
   "version": "3.8.5"
  },
  "orig_nbformat": 4
 },
 "nbformat": 4,
 "nbformat_minor": 2
}
