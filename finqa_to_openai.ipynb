{
 "cells": [
  {
   "cell_type": "code",
   "execution_count": null,
   "metadata": {},
   "outputs": [],
   "source": [
    "import json\n",
    "\n",
    "# Load your input data\n",
    "input_data_file = \"/kaggle/input/finqa-train/train.json\" \n",
    "with open(input_data_file, \"r\") as json_file:\n",
    "    input_data = json.load(json_file)\n",
    "\n",
    "def convert_to_output_format(input_entry):\n",
    "\n",
    "    ans=str(input_entry[\"qa\"][\"answer\"])\n",
    "\n",
    "    exp=str(input_entry[\"qa\"][\"explanation\"])\n",
    "\n",
    "    res=str(input_entry[\"qa\"][\"exe_ans\"])\n",
    "        \n",
    "    return {\n",
    "        \"messages\": [\n",
    "            {\"role\": \"system\", \"content\": \"It is a chatbot that helps with financial questions.\"},\n",
    "            {\"role\": \"user\", \"content\": input_entry[\"qa\"][\"question\"]},\n",
    "            {\"role\": \"assistant\", \"content\": ans }\n",
    "        ]\n",
    "    }\n",
    "\n",
    "# Convert each input entry to the desired output format\n",
    "output_data = [convert_to_output_format(entry) for entry in input_data]\n",
    "\n",
    "# Specify the path for the output JSONL file\n",
    "output_jsonl_file = \"/kaggle/working/out_train.jsonl\"  # Replace with your desired output file path\n",
    "\n",
    "# Write the converted data to a JSONL file\n",
    "with open(output_jsonl_file, \"w\") as jsonl_file:\n",
    "    for conversation in output_data:\n",
    "        jsonl_file.write(json.dumps(conversation) + \"\\n\")\n",
    "\n",
    "print(f\"Data has been converted with explanations and saved to {output_jsonl_file}.\")"
   ]
  }
 ],
 "metadata": {
  "language_info": {
   "name": "python"
  },
  "orig_nbformat": 4
 },
 "nbformat": 4,
 "nbformat_minor": 2
}
